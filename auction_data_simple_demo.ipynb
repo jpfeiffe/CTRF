{
 "cells": [
  {
   "cell_type": "code",
   "execution_count": 2,
   "metadata": {},
   "outputs": [],
   "source": [
    "import argparse\n",
    "import numpy as np\n",
    "import os\n",
    "import pickle\n",
    "from sklearn.datasets import make_classification\n",
    "from sklearn.linear_model import LogisticRegression\n",
    "from sklearn.ensemble import GradientBoostingClassifier\n",
    "#\n",
    "from ctrf.metrics import *\n",
    "from ctrf.models import *\n",
    "from ctrf.auction import *"
   ]
  },
  {
   "cell_type": "code",
   "execution_count": 3,
   "metadata": {},
   "outputs": [],
   "source": [
    "class Args:\n",
    "  seed = 40\n",
    "  n_tr_samples = 30000\n",
    "  n_te_cnt_samples = 100000\n",
    "  n_te_trt_samples = 100000\n",
    "  n_te_rnd_samples = 100000\n",
    "  n_features = 11\n",
    "  n_informative = 10\n",
    "  n_clusters_per_class = 10\n",
    "  class_sep = 1\n",
    "  oracle_n_estimators = 100\n",
    "  oracle_min_samples_leaf = 100\n",
    "  auction_n_estimators = 50\n",
    "  auction_max_leaf_nodes = 100\n",
    "  auction_size = 20\n",
    "  n_rnd_auction = 10000\n",
    "  n_auctions = 25000\n",
    "  epsilon = .1\n",
    "  control_reserve = .5\n",
    "  treatment_reserve = .8\n",
    "  max_slate = 5\n",
    "  different_slate=0\n",
    "\n",
    "args=Args()"
   ]
  },
  {
   "cell_type": "code",
   "execution_count": 4,
   "metadata": {},
   "outputs": [],
   "source": [
    "X, y =  make_classification(  n_samples=args.n_tr_samples + args.n_te_cnt_samples + args.n_te_trt_samples + args.n_te_rnd_samples\n",
    "                            , n_features=args.n_features\n",
    "                            , n_informative=args.n_informative\n",
    "                            , n_redundant=0\n",
    "                            , n_clusters_per_class=args.n_clusters_per_class\n",
    "                            , class_sep=args.class_sep\n",
    "                            , random_state=args.seed)"
   ]
  },
  {
   "cell_type": "code",
   "execution_count": 5,
   "metadata": {},
   "outputs": [],
   "source": [
    "samples = np.array([0, args.n_tr_samples, args.n_te_cnt_samples, args.n_te_trt_samples, args.n_te_rnd_samples])\n",
    "datasets = {name : {'name':name, 'start':start, 'end':end, 'samples':samples, 'auction_type':auction_type, 'reserve':reserve} for name, start, end, samples, auction_type, reserve in zip(['oracle', 'cnt', 'trt', 'rnd'], np.cumsum(samples), np.cumsum(samples)[1:], samples[1:], [None, 'greedy', 'greedy', 'random'], [None, args.control_reserve, args.treatment_reserve, 0])}"
   ]
  },
  {
   "cell_type": "code",
   "execution_count": 6,
   "metadata": {},
   "outputs": [
    {
     "name": "stdout",
     "output_type": "stream",
     "text": [
      "oracle 0 30000 30000\n",
      "cnt 30000 130000 100000\n",
      "trt 130000 230000 100000\n",
      "rnd 230000 330000 100000\n"
     ]
    }
   ],
   "source": [
    "for dataset, info in datasets.items():\n",
    "    print(dataset, info['start'], info['end'], info['samples'])\n",
    "    info['X'], info['y'] = X[info['start']:info['end'], :].copy() , y[info['start']:info['end']].copy()"
   ]
  },
  {
   "cell_type": "code",
   "execution_count": 7,
   "metadata": {},
   "outputs": [
    {
     "name": "stdout",
     "output_type": "stream",
     "text": [
      "Runtime: 11.007472276687622\n"
     ]
    }
   ],
   "source": [
    "# Creates an oracle pclick that ignores position and simply observes c/nc\n",
    "oracle, args.seed = train_rf(datasets['oracle']['X'], datasets['oracle']['y'], seed=args.seed, n_estimators=args.oracle_n_estimators, min_samples_leaf=args.oracle_min_samples_leaf)\n",
    "# print('Oracle Created -- Test AUC Control:', compute_model_auc(oracle, datasets['cnt']['X'], datasets['cnt']['y']))\n",
    "# print('Oracle Created -- Test AUC Treatment:', compute_model_auc(oracle, datasets['trt']['X'], datasets['trt']['y']))"
   ]
  },
  {
   "cell_type": "code",
   "execution_count": 8,
   "metadata": {},
   "outputs": [],
   "source": [
    "# Run selection\n",
    "datasets['rnd']['ind'], args.seed = run_selection(args.seed, datasets['rnd']['samples'], args.auction_size, args.n_rnd_auction)\n",
    "datasets['cnt']['ind'], args.seed = run_selection(args.seed, datasets['cnt']['samples'], args.auction_size, args.n_auctions)\n",
    "datasets['trt']['ind'], args.seed = run_selection(args.seed, datasets['trt']['samples'], args.auction_size, args.n_auctions)"
   ]
  },
  {
   "cell_type": "code",
   "execution_count": 9,
   "metadata": {},
   "outputs": [
    {
     "name": "stdout",
     "output_type": "stream",
     "text": [
      "rnd True AUC: 0.8615436809148386 Noisy AUC: 0.8583488843483844\n",
      "cnt True AUC: 0.8575507426746832 Noisy AUC: 0.8543924999605809\n",
      "trt True AUC: 0.8607333587452393 Noisy AUC: 0.857754199508772\n"
     ]
    }
   ],
   "source": [
    "# Run the auction\n",
    "# Use Oracle Model to Predict Pclick\n",
    "# Supply Noisy Pclick\n",
    "datasets['rnd']['auctions'], args.seed = run_auction(datasets['rnd'], args.seed, oracle, args.epsilon, args.auction_size, args.n_rnd_auction, args.max_slate, position_effect=1)\n",
    "datasets['cnt']['auctions'], args.seed = run_auction(datasets['cnt'], args.seed, oracle, args.epsilon, args.auction_size, args.n_auctions, args.max_slate, position_effect=1)\n",
    "datasets['trt']['auctions'], args.seed = run_auction(datasets['trt'], args.seed, oracle, args.epsilon, args.auction_size, args.n_auctions, args.max_slate, position_effect=1)"
   ]
  },
  {
   "cell_type": "code",
   "execution_count": 10,
   "metadata": {},
   "outputs": [
    {
     "name": "stdout",
     "output_type": "stream",
     "text": [
      "Train RF Models\n",
      "Runtime: 4.253422975540161\n",
      "Runtime: 15.32964539527893\n",
      "Runtime: 2.190796375274658\n",
      "Runtime: 21.159729957580566\n"
     ]
    }
   ],
   "source": [
    "print('Train RF Models')\n",
    "#Vanilla RF\n",
    "rnd_rf, args.seed = train_rf(*construct_auction_dataset(datasets['rnd']), seed=args.seed, n_estimators=args.auction_n_estimators, max_leaf_nodes=args.auction_max_leaf_nodes)\n",
    "cnt_rf, args.seed = train_rf(*construct_auction_dataset(datasets['cnt']), seed=args.seed, n_estimators=args.auction_n_estimators, max_leaf_nodes=args.auction_max_leaf_nodes)\n",
    "trt_rf, args.seed = train_rf(*construct_auction_dataset(datasets['trt']), seed=args.seed, n_estimators=args.auction_n_estimators, max_leaf_nodes=args.auction_max_leaf_nodes)\n",
    "#Combined RF\n",
    "combine_rf,args.seed= train_combine_rf(*construct_auction_dataset(datasets['rnd']),*construct_auction_dataset(datasets['cnt']),seed=args.seed, n_estimators=args.auction_n_estimators, max_leaf_nodes=args.auction_max_leaf_nodes)"
   ]
  },
  {
   "cell_type": "code",
   "execution_count": null,
   "metadata": {},
   "outputs": [],
   "source": [
    "#CTRF\n",
    "cnt_ctrf, args.seed = train_ctrf(*construct_auction_dataset(datasets['rnd']), *construct_auction_dataset(datasets['cnt']),rnd_rf, seed=args.seed, combine=1, n_estimators=args.auction_n_estimators, max_leaf_nodes=args.auction_max_leaf_nodes)\n",
    "trt_ctrf, args.seed = train_ctrf(*construct_auction_dataset(datasets['rnd']), *construct_auction_dataset(datasets['trt']),rnd_rf, seed=args.seed, combine=1,n_estimators=args.auction_n_estimators, max_leaf_nodes=args.auction_max_leaf_nodes)"
   ]
  },
  {
   "cell_type": "code",
   "execution_count": null,
   "metadata": {},
   "outputs": [],
   "source": [
    "##Results to Save\n",
    "method_list=['oracle','rnd_rf','trt_rf','cnt_rf','trt_ctrf','cnt_ctrf','combine_rf']\n",
    "results = {name : {'name':name,  'auction_type':auction_type, 'reserve':reserve,\n",
    "                   'auc_sample':[],\n",
    "                   'auc':{method_name:[] for method_name in method_list},\n",
    "                   'f1_score':{method_name:[] for method_name in method_list},\n",
    "                   'rig':{method_name:[] for method_name in method_list},\n",
    "                   'bias':{method_name:[] for method_name in method_list},\n",
    "                   'feature_imp':{method_name:[] for method_name in method_list}} \n",
    "           for name, auction_type, reserve in zip(['oracle', 'cnt', 'trt', 'rnd'], [None, 'greedy', 'greedy', 'random'], [None, args.control_reserve, args.treatment_reserve, 0])}"
   ]
  },
  {
   "cell_type": "code",
   "execution_count": null,
   "metadata": {},
   "outputs": [],
   "source": [
    "def results_update(model,results,data_name,method_name):\n",
    "    if method_name=='oracle':\n",
    "        results[data_name]['auc'][method_name].append(compute_model_auc(model,datasets[data_name]['X'],datasets[data_name]['y']))\n",
    "        results[data_name]['f1_score'][method_name].append(compute_model_f1(model,datasets[data_name]['X'],datasets[data_name]['y']))\n",
    "        results[data_name]['bias'][method_name].append(compute_model_bias(model,datasets[data_name]['X'],datasets[data_name]['y']))\n",
    "        results[data_name]['rig'][method_name].append(compute_model_rig(model,datasets[data_name]['X'],datasets[data_name]['y']))\n",
    "    else:\n",
    "        results[data_name]['auc'][method_name].append(compute_model_auc(model,*construct_auction_dataset(datasets[data_name])))\n",
    "        results[data_name]['f1_score'][method_name].append(compute_model_f1(model,*construct_auction_dataset(datasets[data_name])))\n",
    "        results[data_name]['bias'][method_name].append(compute_model_bias(model,*construct_auction_dataset(datasets[data_name])))\n",
    "        results[data_name]['rig'][method_name].append(compute_model_rig(model,*construct_auction_dataset(datasets[data_name])))\n",
    "        results[data_name]['feature_imp'][method_name].append(np.argsort(model.feature_importances_))"
   ]
  },
  {
   "cell_type": "code",
   "execution_count": null,
   "metadata": {},
   "outputs": [],
   "source": [
    "#Results_Update\n",
    "for model_name in ['oracle','rnd_rf','cnt_rf','trt_rf','cnt_ctrf','trt_ctrf','combine_rf']:\n",
    "    if model_name=='oracle':\n",
    "        results_update(eval(model_name),results,'oracle',model_name)\n",
    "    for data_name in ['rnd','cnt','trt']:\n",
    "        print(model_name,data_name)\n",
    "        results_update(eval(model_name),results,data_name,model_name)\n",
    "        #Sample size of impressions\n",
    "        results[data_name]['auc_sample'].append(construct_auction_dataset(datasets[data_name])[0].shape[0])"
   ]
  },
  {
   "cell_type": "code",
   "execution_count": 168,
   "metadata": {},
   "outputs": [],
   "source": [
    "# if os.path.isdir('results'): \n",
    "#     print('')\n",
    "# else:\n",
    "#     os.mkdir(\"results\")\n",
    "#     print(\"directory added\")\n",
    "    \n",
    "# path=\"results/\"\n",
    "# os.chdir(path)\n",
    "# result_name='_'.join([\"results\",str(args.n_rnd_auction),str(args.n_auctions),str(int(args.treatment_reserve*100)),str(int(args.control_reserve*100)),str(args.max_slate)])\n",
    "# f = open(result_name+\".pkl\",\"wb\")\n",
    "# pickle.dump(results,f)\n",
    "# f.close()"
   ]
  },
  {
   "cell_type": "code",
   "execution_count": 191,
   "metadata": {},
   "outputs": [],
   "source": [
    "# #Loading\n",
    "# with open('results_1000_4000_50_50_5'+'.pkl', 'rb') as pickle_file:\n",
    "#     content = pickle.load(pickle_file)"
   ]
  },
  {
   "cell_type": "code",
   "execution_count": 219,
   "metadata": {},
   "outputs": [
    {
     "data": {
      "text/plain": [
       "0.5"
      ]
     },
     "execution_count": 219,
     "metadata": {},
     "output_type": "execute_result"
    }
   ],
   "source": [
    "# content['trt']['reserve']"
   ]
  },
  {
   "cell_type": "code",
   "execution_count": 206,
   "metadata": {},
   "outputs": [
    {
     "data": {
      "text/plain": [
       "[<matplotlib.lines.Line2D at 0x7fe01aff16d0>]"
      ]
     },
     "execution_count": 206,
     "metadata": {},
     "output_type": "execute_result"
    },
    {
     "data": {
      "image/png": "[encoded data removed]",
      "text/plain": [
       "<Figure size 432x288 with 1 Axes>"
      ]
     },
     "metadata": {
      "needs_background": "light"
     },
     "output_type": "display_data"
    }
   ],
   "source": [
    "# plt.plot(content['trt']['rig']['cnt_ctrf'])\n",
    "# plt.plot(content['trt']['rig']['cnt_rf'])"
   ]
  },
  {
   "cell_type": "code",
   "execution_count": 218,
   "metadata": {},
   "outputs": [
    {
     "data": {
      "text/plain": [
       "0.8"
      ]
     },
     "execution_count": 218,
     "metadata": {},
     "output_type": "execute_result"
    }
   ],
   "source": [
    "results['cn']['auc_sample']"
   ]
  }
 ],
 "metadata": {
  "kernelspec": {
   "display_name": "Python 3",
   "language": "python",
   "name": "python3"
  },
  "language_info": {
   "codemirror_mode": {
    "name": "ipython",
    "version": 3
   },
   "file_extension": ".py",
   "mimetype": "text/x-python",
   "name": "python",
   "nbconvert_exporter": "python",
   "pygments_lexer": "ipython3",
   "version": "3.7.3"
  }
 },
 "nbformat": 4,
 "nbformat_minor": 4
}
