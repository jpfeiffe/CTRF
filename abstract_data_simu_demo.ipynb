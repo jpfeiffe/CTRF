{
 "cells": [
  {
   "cell_type": "code",
   "execution_count": 1,
   "metadata": {},
   "outputs": [],
   "source": [
    "import numpy as np\n",
    "from simulation.util import *\n",
    "from ctrf.metrics import *\n",
    "from ctrf.models import *\n",
    "from ctrf.auction import *\n",
    "import os,pickle"
   ]
  },
  {
   "cell_type": "code",
   "execution_count": 3,
   "metadata": {},
   "outputs": [],
   "source": [
    "class Args:\n",
    "  seed = 40\n",
    "  n_rnd = 1000\n",
    "  n_log = 4000\n",
    "  n_test = 1000\n",
    "  p = 40\n",
    "  scenario_log=2\n",
    "  scenario_test=2\n",
    "  r_log = 0.7\n",
    "  r_test = 0.8\n",
    "  n_experiments = 100\n",
    "args=Args()"
   ]
  },
  {
   "cell_type": "code",
   "execution_count": 4,
   "metadata": {},
   "outputs": [],
   "source": [
    "model_list= ['lr_model','lr_weight_model','gbdt_model','gbdt_weight_model','rndrf_model','cntrf_model','trtrf_model','combinerf_model','ctrf_model']"
   ]
  },
  {
   "cell_type": "code",
   "execution_count": 5,
   "metadata": {},
   "outputs": [],
   "source": [
    "results={name:{metric:[] for metric in ['auc','f1_score','bias','rig']} for name in model_list}"
   ]
  },
  {
   "cell_type": "code",
   "execution_count": 6,
   "metadata": {},
   "outputs": [],
   "source": [
    "def update_results(model_name,results,test_X,test_Y):\n",
    "    results[model_name]['auc'].append(compute_model_auc(eval(model_name),test_X,test_Y))\n",
    "    results[model_name]['bias'].append(compute_model_bias(eval(model_name),test_X,test_Y))    \n",
    "    results[model_name]['rig'].append(compute_model_rig(eval(model_name),test_X,test_Y))\n",
    "    results[model_name]['f1_score'].append(compute_model_f1(eval(model_name),test_X,test_Y))"
   ]
  },
  {
   "cell_type": "code",
   "execution_count": 7,
   "metadata": {},
   "outputs": [
    {
     "name": "stdout",
     "output_type": "stream",
     "text": [
      "directory added\n"
     ]
    }
   ],
   "source": [
    "if os.path.isdir('simu_results'): \n",
    "    print('')\n",
    "else:\n",
    "    os.mkdir(\"simu_results\")\n",
    "    print(\"directory added\")\n",
    "    \n",
    "path=\"simu_results/\"\n",
    "os.chdir(path)\n",
    "result_name='_'.join([\"results\",str(args.n_log),str(args.p),str(args.scenario_test),str(int(args.r_test))])"
   ]
  },
  {
   "cell_type": "code",
   "execution_count": 9,
   "metadata": {},
   "outputs": [
    {
     "ename": "NameError",
     "evalue": "name 'warnings' is not defined",
     "output_type": "error",
     "traceback": [
      "\u001b[0;31m---------------------------------------------------------------------------\u001b[0m",
      "\u001b[0;31mNameError\u001b[0m                                 Traceback (most recent call last)",
      "\u001b[0;32m<ipython-input-9-93cad175e49f>\u001b[0m in \u001b[0;36m<module>\u001b[0;34m\u001b[0m\n\u001b[0;32m----> 1\u001b[0;31m \u001b[0mwarnings\u001b[0m\u001b[0;34m.\u001b[0m\u001b[0mfilterwarnings\u001b[0m\u001b[0;34m(\u001b[0m\u001b[0;34m\"ignore\"\u001b[0m\u001b[0;34m)\u001b[0m\u001b[0;34m\u001b[0m\u001b[0;34m\u001b[0m\u001b[0m\n\u001b[0m\u001b[1;32m      2\u001b[0m \u001b[0;32mfor\u001b[0m \u001b[0mi\u001b[0m \u001b[0;32min\u001b[0m \u001b[0mrange\u001b[0m\u001b[0;34m(\u001b[0m\u001b[0margs\u001b[0m\u001b[0;34m.\u001b[0m\u001b[0mn_experiments\u001b[0m\u001b[0;34m)\u001b[0m\u001b[0;34m:\u001b[0m\u001b[0;34m\u001b[0m\u001b[0;34m\u001b[0m\u001b[0m\n\u001b[1;32m      3\u001b[0m     \u001b[0;31m##Data Generating\u001b[0m\u001b[0;34m\u001b[0m\u001b[0;34m\u001b[0m\u001b[0;34m\u001b[0m\u001b[0m\n\u001b[1;32m      4\u001b[0m     \u001b[0mprint\u001b[0m \u001b[0;34m(\u001b[0m\u001b[0;34m'------------------------------'\u001b[0m\u001b[0;34m)\u001b[0m\u001b[0;34m\u001b[0m\u001b[0;34m\u001b[0m\u001b[0m\n\u001b[1;32m      5\u001b[0m     \u001b[0mprint\u001b[0m \u001b[0;34m(\u001b[0m\u001b[0;34m'Run %d th experiments:'\u001b[0m \u001b[0;34m%\u001b[0m \u001b[0;34m(\u001b[0m\u001b[0mi\u001b[0m\u001b[0;34m+\u001b[0m\u001b[0;36m1\u001b[0m\u001b[0;34m)\u001b[0m\u001b[0;34m)\u001b[0m\u001b[0;34m\u001b[0m\u001b[0;34m\u001b[0m\u001b[0m\n",
      "\u001b[0;31mNameError\u001b[0m: name 'warnings' is not defined"
     ]
    }
   ],
   "source": [
    "for i in range(args.n_experiments):\n",
    "    ##Data Generating\n",
    "    print ('------------------------------')\n",
    "    print ('Run %d th experiments:' % (i+1))\n",
    "    random_data=simu_confounding_data(p=args.p,n=args.n_rnd,scenario=1,r=0.5)\n",
    "    log_data=simu_confounding_data(p=args.p,n=args.n_log,scenario=args.scenario_log,r=args.r_log)\n",
    "    testing_data=simu_confounding_data(p=args.p,n=args.n_test,scenario=args.scenario_test,r=args.r_test)\n",
    "    #IPW Calculation\n",
    "    ipw_weights=calculate_weight(log_data['X'],testing_data['X'])\n",
    "\n",
    "    ##Logistic Regression\n",
    "    lr_model,args.seed=train_lr_model(log_data['X'],log_data['Y'],seed=args.seed)\n",
    "    ##Logistic Regression with IPW adjustment\n",
    "    lr_weight_model,args.seed=train_lr_weight_model(log_data['X'],log_data['Y'],ipw_weights,seed=args.seed)\n",
    "    ##GBDT\n",
    "    gbdt_model,args.seed=train_gbdt_model(log_data['X'],log_data['Y'],seed=args.seed)\n",
    "    ##GBDT with IPW adjustment\n",
    "    gbdt_weight_model,args.seed=train_gbdt_weight_model(log_data['X'],log_data['Y'],ipw_weights,seed=args.seed)\n",
    "    #RF on randomized\n",
    "    rndrf_model,args.seed=train_rf(random_data['X'],random_data['Y'],seed=args.seed)\n",
    "    #RF on Log\n",
    "    cntrf_model,args.seed=train_rf(log_data['X'],log_data['Y'],seed=args.seed)\n",
    "    #Oracle RF\n",
    "    trtrf_model,args.seed=train_rf(testing_data['X'],testing_data['Y'],seed=args.seed)\n",
    "    #Combined RF\n",
    "    combinerf_model,args.seed=train_combine_rf(random_data['X'],random_data['Y'],log_data['X'],log_data['Y'],seed=args.seed)\n",
    "    #CTRF\n",
    "    ctrf_model,args.seed=train_ctrf(random_data['X'],random_data['Y'],log_data['X'],log_data['Y'],rndrf_model,combine=1,seed=args.seed)\n",
    "\n",
    "    #Record Results\n",
    "    for model_name in model_list:\n",
    "        update_results(model_name,results,testing_data['X'],testing_data['Y'])\n",
    "    \n",
    "    print ('Finish %d th experiments:' % (i+1))"
   ]
  },
  {
   "cell_type": "code",
   "execution_count": 9,
   "metadata": {},
   "outputs": [],
   "source": [
    "f = open(result_name+\".pkl\",\"wb\")\n",
    "pickle.dump(results,f)\n",
    "f.close()"
   ]
  }
 ],
 "metadata": {
  "kernelspec": {
   "display_name": "Python 3",
   "language": "python",
   "name": "python3"
  },
  "language_info": {
   "codemirror_mode": {
    "name": "ipython",
    "version": 3
   },
   "file_extension": ".py",
   "mimetype": "text/x-python",
   "name": "python",
   "nbconvert_exporter": "python",
   "pygments_lexer": "ipython3",
   "version": "3.7.3"
  }
 },
 "nbformat": 4,
 "nbformat_minor": 4
}
